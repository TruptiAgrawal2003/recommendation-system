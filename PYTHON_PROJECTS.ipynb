{
 "cells": [
  {
   "cell_type": "code",
   "execution_count": 1,
   "id": "56555396",
   "metadata": {},
   "outputs": [
    {
     "name": "stdout",
     "output_type": "stream",
     "text": [
      "DO YOU WANT TO PLAY \n",
      "yes\n",
      "guess a number \n",
      "567\n",
      "computer choice is 894\n",
      "YOUR NUMBER IS SMALLER\n",
      "DO YOU WANT TO PLAY \n",
      "no\n",
      "EXIT\n"
     ]
    }
   ],
   "source": [
    "import random\n",
    "while(True):\n",
    "    choice=input(\"DO YOU WANT TO PLAY \\n\")\n",
    "    choice=choice.lower()\n",
    "    if choice=='yes':\n",
    "        computer_choice=random.randint(1,1000)\n",
    "        num=int(input(\"guess a number \\n\"))\n",
    "        print(\"computer choice is\",computer_choice)\n",
    "        if num==computer_choice:\n",
    "            print(\"GUESSED RIGHT\")\n",
    "        elif num>computer_choice:\n",
    "            print(\"YOUR NUMBER IS GREATER\")\n",
    "        elif num<computer_choice:\n",
    "            print(\"YOUR NUMBER IS SMALLER\")\n",
    "    else:\n",
    "        print(\"EXIT\")\n",
    "        break\n"
   ]
  },
  {
   "cell_type": "markdown",
   "id": "1bbf7acb",
   "metadata": {},
   "source": [
    "## ROCK PAPER SCISSOR\n"
   ]
  },
  {
   "cell_type": "code",
   "execution_count": 4,
   "id": "0b0f9552",
   "metadata": {},
   "outputs": [
    {
     "name": "stdout",
     "output_type": "stream",
     "text": [
      "DO YOU WANT TO PLAY \n",
      " YES OR NO \n",
      "yes\n",
      "ENTER YOUR CHOICE: \n",
      "  1 FOR ROCK \n",
      " 2 FOR PAPER \n",
      " 3 FOR SCISSOR \n",
      "4\n",
      "COMPUTER CHOICE IS  2\n",
      "SESSION EXITED DUE TO INVALID CHOICE\n"
     ]
    }
   ],
   "source": [
    "while(True):\n",
    "    choice=input(\"DO YOU WANT TO PLAY \\n YES OR NO \\n\")\n",
    "    choice=choice.lower()\n",
    "    if choice=='yes':\n",
    "        player=int(input(\"ENTER YOUR CHOICE: \\n  1 FOR ROCK \\n 2 FOR PAPER \\n 3 FOR SCISSOR \\n\"))\n",
    "        computer=random.randint(1,3)\n",
    "        print(\"COMPUTER CHOICE IS \",computer)\n",
    "        if player!=1 and player!=2 and player!=3:\n",
    "            print(\"SESSION EXITED DUE TO INVALID CHOICE\")\n",
    "            break\n",
    "        elif player==computer:\n",
    "            print(\"IT'S A TIE\")\n",
    "        elif player==3 and computer==1:\n",
    "            print(\"YOU LOSE\")\n",
    "        elif player==1 and computer==3:\n",
    "            print(\"YOU WIN\")\n",
    "        elif player> computer:\n",
    "            print(\"YOU WIN\")\n",
    "        elif player< computer:\n",
    "            print(\"YOU LOSE\")\n",
    "       \n",
    "    else:\n",
    "        print(\"SESSION ENDED\")\n",
    "        break\n",
    "    "
   ]
  },
  {
   "cell_type": "code",
   "execution_count": null,
   "id": "63697927",
   "metadata": {},
   "outputs": [],
   "source": []
  }
 ],
 "metadata": {
  "kernelspec": {
   "display_name": "Python 3 (ipykernel)",
   "language": "python",
   "name": "python3"
  },
  "language_info": {
   "codemirror_mode": {
    "name": "ipython",
    "version": 3
   },
   "file_extension": ".py",
   "mimetype": "text/x-python",
   "name": "python",
   "nbconvert_exporter": "python",
   "pygments_lexer": "ipython3",
   "version": "3.11.3"
  }
 },
 "nbformat": 4,
 "nbformat_minor": 5
}
